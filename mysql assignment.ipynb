{
 "cells": [
  {
   "cell_type": "markdown",
   "id": "9a0ffb23-f7ae-479d-9aae-a42ef003c387",
   "metadata": {},
   "source": [
    "Q1) What is database? differenciate between SQL and NOSQL database"
   ]
  },
  {
   "cell_type": "markdown",
   "id": "decb1ee3-a661-4c54-a15f-6af4fdd9956e",
   "metadata": {},
   "source": [
    "A database is an organized collection of structured information, or data, typically stored electronically in a computer system. A database is usually controlled by a database management system (DBMS).\n",
    "Databases often store information about people, such as customers or users. For example, social media platforms use databases to store user information, such as names, email addresses and user behavior. The data is used to recommend content to users and improve the user experience.\n",
    "\n",
    "SQL databases define and manipulate data-based structured query language (SQL). Seeing from a side this language is extremely powerful. SQL is one of the most versatile and widely-used options available which makes it a safe choice, especially for great complex queries. But from another side, it can be restrictive. SQL requires you to use predefined schemas to determine the structure of your data before you work with it. Also, all of your data must follow the same structure. This can require significant up-front preparation which means that a change in the structure would be both difficult and disruptive to your whole system.\n",
    "\n",
    "A NoSQL database has a dynamic schema for unstructured data. Data is stored in many ways which means it can be document-oriented, column-oriented, graph-based, or organized as a key-value store. This flexibility means that documents can be created without having a defined structure first. Also, each document can have its own unique structure. The syntax varies from database to database, and you can add fields as you go. "
   ]
  },
  {
   "cell_type": "markdown",
   "id": "49017aa6-91e6-43e6-aa18-9b8d6758a39d",
   "metadata": {},
   "source": [
    "Q2) What is DDL?Explain why CREATE, DROP, ALTER, and TRUNCATE are used with an example."
   ]
  },
  {
   "cell_type": "markdown",
   "id": "2471479d-403d-4b2a-b31e-2046d1900fb0",
   "metadata": {},
   "source": [
    "DDL (Data Definition Language)\n",
    "DDL or Data Definition Language actually consists of the SQL commands that can be used to define the database schema. It simply deals with descriptions of the database schema and is used to create and modify the structure of database objects in the database. DDL is a set of SQL commands used to create, modify, and delete database structures but not data. These commands are normally not used by a general user, who should be accessing the database via an application.\n",
    "\n",
    "List of DDL commands: \n",
    "\n",
    "CREATE: This command is used to create the database or its objects (like table, index, function, views, store procedure, and triggers).\n",
    "\n",
    "DROP: This command is used to delete objects from the database.\n",
    "\n",
    "ALTER: This is used to alter the structure of the database.\n",
    "\n",
    "TRUNCATE: This is used to remove all records from a table, including all spaces allocated for the records are removed.\n",
    "\n",
    "COMMENT: This is used to add comments to the data dictionary.\n",
    "\n",
    "RENAME: This is used to rename an object existing in the database."
   ]
  },
  {
   "cell_type": "markdown",
   "id": "0aff9d7b-8f1f-4919-80db-750459eb7485",
   "metadata": {},
   "source": [
    "Q3) What is DML? Explain INSERT, UPDATE, and DELETE with an example."
   ]
  },
  {
   "cell_type": "markdown",
   "id": "560a8a40-bb5a-4233-8f47-6830ec0bd5f9",
   "metadata": {},
   "source": [
    "DML(Data Manipulation Language)\n",
    "The SQL commands that deal with the manipulation of data present in the database belong to DML or Data Manipulation Language and this includes most of the SQL statements. It is the component of the SQL statement that controls access to data and to the database. Basically, DCL statements are grouped with DML statements.\n",
    "\n",
    "List of DML commands: \n",
    "\n",
    "INSERT: It is used to insert data into a table.\n",
    "\n",
    "UPDATE: It is used to update existing data within a table.\n",
    "\n",
    "DELETE: It is used to delete records from a database table.\n",
    "\n",
    "LOCK: Table control concurrency.\n",
    "\n",
    "CALL: Call a PL/SQL or JAVA subprogram.\n",
    "\n",
    "EXPLAIN PLAN: It describes the access path to data."
   ]
  },
  {
   "cell_type": "markdown",
   "id": "2cddf5ab-7d9f-4b92-a6cb-92a059981aa5",
   "metadata": {},
   "source": [
    "Q4) What is DQL? Explain SELECT with an example."
   ]
  },
  {
   "cell_type": "markdown",
   "id": "a8c69268-d4f7-4db7-9f00-ecf8c84e92f2",
   "metadata": {},
   "source": [
    "DQL (Data Query Language)\n",
    "DQL statements are used for performing queries on the data within schema objects. The purpose of the DQL Command is to get some schema relation based on the query passed to it. We can define DQL as follows it is a component of SQL statement that allows getting data from the database and imposing order upon it. It includes the SELECT statement. This command allows getting the data out of the database to perform operations with it. When a SELECT is fired against a table or tables the result is compiled into a further temporary table, which is displayed or perhaps received by the program i.e. a front-end.\n",
    "\n",
    "List of DQL: \n",
    "\n",
    "SELECT: It is used to retrieve data from the database."
   ]
  },
  {
   "cell_type": "markdown",
   "id": "b66724b7-3801-4e81-8156-47363c1701d9",
   "metadata": {},
   "source": [
    "Q5) Explain Primary Key and Foreign Key."
   ]
  },
  {
   "cell_type": "markdown",
   "id": "fba9be0a-6df1-437d-b058-e5f417973725",
   "metadata": {},
   "source": [
    "A primary key is used to ensure that data in the specific column is unique. A column cannot have NULL values. It is either an existing table column or a column that is specifically generated by the database according to a defined sequence. \n",
    "Example: STUD_NO, as well as STUD_PHONE both, are candidate keys for relation STUDENT but STUD_NO can be chosen as the primary key (only one out of many candidate keys). \n",
    "\n",
    "A foreign key is a column or group of columns in a relational database table that provides a link between data in two tables. It is a column (or columns) that references a column (most often the primary key) of another table. \n",
    "Example: STUD_NO in STUDENT_COURSE is a foreign key to STUD_NO in STUDENT relation"
   ]
  },
  {
   "cell_type": "markdown",
   "id": "2985fd35-1f74-4de2-82bb-50a7bcde5769",
   "metadata": {},
   "source": [
    "Q6) Write a python code to connect MySQL to python. Explain the cursor() and execute() method."
   ]
  },
  {
   "cell_type": "code",
   "execution_count": null,
   "id": "8ae287f9-56da-48b6-8538-f686870ecf9a",
   "metadata": {},
   "outputs": [],
   "source": [
    "# importing required libraries\n",
    "import mysql.connector\n",
    "\n",
    "dataBase = mysql.connector.connect(\n",
    "host =\"localhost\",\n",
    "user =\"user\",\n",
    "passwd =\"password\"\n",
    ")\n",
    "\n",
    "print(dataBase)\n",
    "\n",
    "# Disconnecting from the server\n",
    "dataBase.close()\n"
   ]
  },
  {
   "cell_type": "markdown",
   "id": "caa71fd4-6693-4828-bc34-c26debbb65fe",
   "metadata": {},
   "source": [
    "Cursor is a Temporary Memory or Temporary Work Station. It is Allocated by Database Server at the Time of Performing DML(Data Manipulation Language) operations on the Table by the User. Cursors are used to store Database Tables. \n",
    "\n",
    "There are 2 types of Cursors: Implicit Cursors, and Explicit Cursors. These are explained as following below.\n",
    "\n",
    "Implicit Cursors: Implicit Cursors are also known as Default Cursors of SQL SERVER. These Cursors are allocated by SQL SERVER when the user performs DML operations.\n",
    "Explicit Cursors: Explicit Cursors are Created by Users whenever the user requires them. Explicit Cursors are used for Fetching data from Table in Row-By-Row Manner.\n",
    "\n",
    "execute()\n",
    "Description: The method used for all types of SQL statements, and that is, returns a Boolean value of TRUE or FALSE.\n",
    "Return type: This method return a Boolean value. TRUE indicates that query returned a Result Set object and FALSE indicate returned an int value or returned nothing.\n",
    "Usage: This method is use to execute  Both select and non select queries.\n",
    "Example: All SQL statements."
   ]
  },
  {
   "cell_type": "markdown",
   "id": "ff505286-5ad8-44ba-a7b8-d6042c4c9166",
   "metadata": {},
   "source": [
    "Q7) Give the order of execution of SQL clauses in an SQL query."
   ]
  },
  {
   "cell_type": "markdown",
   "id": "e336883d-aded-4173-ad58-f8f23fba547b",
   "metadata": {},
   "source": [
    "Assume there is a table with the name “orders” which contains data about orders made by customers, like order_ID, customer_ID, customer_city, order_date, and total_amount of the order. \n",
    "\n",
    "The below query retrieves the total amount of all orders named “TOTAL” made by customers who are living in New York and placed their orders between the dates January 1, 2022, and March 31, 2022, sorted by the total amount in descending order.\n",
    "\n",
    "Syntax:\n",
    "\n",
    "SELECT customer_ID, SUM(total_amount) AS “Total”\n",
    "\n",
    "FROM orders\n",
    "\n",
    "WHERE order_date BETWEEN ‘2022-01-01’ AND ‘2022-03-31’\n",
    "\n",
    "AND customer_city = ‘New York’\n",
    "\n",
    "GROUP BY customer_id\n",
    "\n",
    "ORDER BY Total DESC;\n",
    "\n",
    "The above query is executed in the following way. First, the FROM clause is executed to identify the table involved, which is “orders.” Next, the WHERE clause is executed to filter the rows based on the conditions, which here is the date range using BETWEEN operation and customer_city value. Next, the GROUP BY clause is executed which groups the rows based on Customer_ID. This makes us use the SUM aggregate function now. Next, the SELECT clause is executed which retrieves the columns customer_ID and SUM of total_amount corresponding to each ID with the alias name “TOTAL”. At last, the ORDER BY clause is executed which sorts the results based on “TOTAL” in descending order. The order of evaluation is described in the subset view below.\n",
    "\n",
    "Order of Execution of a SQL Query. The order is in the bottom right. The first clause within the Red box is evaluated followed by the one in Yellow, then Green, Blue, and Violet.\n",
    "Order of Execution of a SQL Query. The order is in the bottom right. The first clause within the Red box is evaluated followed by the one in Yellow, then Green, Blue, and Violet.\n",
    "\n",
    "If the above is executed in a different order, some incorrect results would have been evaluated or evaluation would be slow. For instance, if the ORDER BY clause is evaluated before the WHERE clause, the data would be sorted first then grouping would have taken place and It would have returned incorrect results.\n",
    "\n",
    "By understanding the order of execution of SQL and applying optimization techniques, efficient queries that give the desired results faster and more accurately can be developed.\n"
   ]
  },
  {
   "cell_type": "code",
   "execution_count": null,
   "id": "b5cf37ac-9403-4710-8422-2aaed1717cee",
   "metadata": {},
   "outputs": [],
   "source": []
  }
 ],
 "metadata": {
  "kernelspec": {
   "display_name": "Python 3 (ipykernel)",
   "language": "python",
   "name": "python3"
  },
  "language_info": {
   "codemirror_mode": {
    "name": "ipython",
    "version": 3
   },
   "file_extension": ".py",
   "mimetype": "text/x-python",
   "name": "python",
   "nbconvert_exporter": "python",
   "pygments_lexer": "ipython3",
   "version": "3.10.8"
  }
 },
 "nbformat": 4,
 "nbformat_minor": 5
}
